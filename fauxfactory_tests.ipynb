{
 "cells": [
  {
   "cell_type": "code",
   "execution_count": 1,
   "metadata": {},
   "outputs": [],
   "source": [
    "import fauxfactory\n",
    "import datetime"
   ]
  },
  {
   "cell_type": "code",
   "execution_count": 2,
   "metadata": {},
   "outputs": [
    {
     "data": {
      "text/plain": [
       "'xS3Y5u4OVTTh7kz'"
      ]
     },
     "execution_count": 2,
     "metadata": {},
     "output_type": "execute_result"
    }
   ],
   "source": [
    "strings = fauxfactory.gen_string('alphanumeric', 15)\n",
    "strings"
   ]
  },
  {
   "cell_type": "code",
   "execution_count": 3,
   "metadata": {},
   "outputs": [
    {
     "name": "stdout",
     "output_type": "stream",
     "text": [
      "R9p1fBk1qXouqry\n",
      "YYzCD2WRu2vup5H\n",
      "ajAqvtbhZ635AEN\n",
      "96NR2MLXvYGXr46\n",
      "QS7gRenYPUJmp7k\n",
      "Ij8XhYZWXPvCKcx\n",
      "DcWthm6RewHeZhd\n",
      "DMEIZ7kMWE5w3Ng\n",
      "dbKFOoSvEJ62vZp\n",
      "zGZBH0C1Vaw1Lnl\n"
     ]
    }
   ],
   "source": [
    "for _ in range(10):\n",
    "    string = fauxfactory.gen_string('alphanumeric', 15)\n",
    "    print(string)"
   ]
  },
  {
   "cell_type": "code",
   "execution_count": 4,
   "metadata": {},
   "outputs": [
    {
     "data": {
      "text/plain": [
       "'37404'"
      ]
     },
     "execution_count": 4,
     "metadata": {},
     "output_type": "execute_result"
    }
   ],
   "source": [
    "string_numerics = fauxfactory.gen_string('numeric', 5)\n",
    "string_numerics"
   ]
  },
  {
   "cell_type": "code",
   "execution_count": 5,
   "metadata": {},
   "outputs": [
    {
     "name": "stdout",
     "output_type": "stream",
     "text": [
      "93933\n",
      "36713\n",
      "43282\n",
      "55309\n",
      "85214\n",
      "69323\n",
      "47436\n",
      "43686\n",
      "24648\n",
      "46973\n"
     ]
    }
   ],
   "source": [
    "for _ in range(10):\n",
    "    string_numeric = fauxfactory.gen_string('numeric', 5)\n",
    "    print(string_numeric)"
   ]
  },
  {
   "cell_type": "code",
   "execution_count": 6,
   "metadata": {},
   "outputs": [
    {
     "data": {
      "text/plain": [
       "datetime.datetime(3001, 4, 26, 11, 59, 31, 654315)"
      ]
     },
     "execution_count": 6,
     "metadata": {},
     "output_type": "execute_result"
    }
   ],
   "source": [
    "mydt = fauxfactory.gen_datetime()\n",
    "mydt"
   ]
  },
  {
   "cell_type": "code",
   "execution_count": 7,
   "metadata": {},
   "outputs": [
    {
     "data": {
      "text/plain": [
       "'sex'"
      ]
     },
     "execution_count": 7,
     "metadata": {},
     "output_type": "execute_result"
    }
   ],
   "source": [
    "week_days = ('seg', 'ter', 'qua', 'qui', 'sex', 'sab', 'dom')\n",
    "fauxfactory.factories.choices.gen_choice(week_days)"
   ]
  },
  {
   "cell_type": "code",
   "execution_count": 8,
   "metadata": {},
   "outputs": [
    {
     "name": "stdout",
     "output_type": "stream",
     "text": [
      "dom\n",
      "ter\n",
      "qui\n",
      "seg\n",
      "ter\n",
      "sex\n",
      "sab\n",
      "qui\n",
      "qua\n",
      "seg\n"
     ]
    }
   ],
   "source": [
    "for _ in range(10):\n",
    "    week_day = fauxfactory.factories.choices.gen_choice(week_days)\n",
    "    print(week_day)"
   ]
  },
  {
   "cell_type": "code",
   "execution_count": 9,
   "metadata": {},
   "outputs": [
    {
     "data": {
      "text/plain": [
       "'Lorem ipsum dolor sit amet, consectetur adipisicing elit, sed do eiusmod tempor incididunt ut labore et dolore magna aliqua. Ut enim ad minim veniam, quis nostrud exercitation ullamco laboris nisi ut aliquip ex ea commodo consequat. Duis aute irure dolor in reprehenderit in voluptate velit esse cillum dolore eu fugiat nulla pariatur. Excepteur sint occaecat cupidatat non proident, sunt in culpa qui officia deserunt mollit anim id est laborum.'"
      ]
     },
     "execution_count": 9,
     "metadata": {},
     "output_type": "execute_result"
    }
   ],
   "source": [
    "fauxfactory.factories.strings.gen_iplum()"
   ]
  },
  {
   "cell_type": "code",
   "execution_count": 10,
   "metadata": {},
   "outputs": [
    {
     "data": {
      "text/plain": [
       "'Lorem ipsum dolor sit amet, consectetur adipisicing elit, sed do.'"
      ]
     },
     "execution_count": 10,
     "metadata": {},
     "output_type": "execute_result"
    }
   ],
   "source": [
    "fauxfactory.factories.strings.gen_iplum(words=10)"
   ]
  },
  {
   "cell_type": "code",
   "execution_count": null,
   "metadata": {},
   "outputs": [],
   "source": []
  }
 ],
 "metadata": {
  "kernelspec": {
   "display_name": "Django Shell-Plus",
   "language": "python",
   "name": "django_extensions"
  },
  "language_info": {
   "codemirror_mode": {
    "name": "ipython",
    "version": 3
   },
   "file_extension": ".py",
   "mimetype": "text/x-python",
   "name": "python",
   "nbconvert_exporter": "python",
   "pygments_lexer": "ipython3",
   "version": "3.7.0"
  }
 },
 "nbformat": 4,
 "nbformat_minor": 2
}
