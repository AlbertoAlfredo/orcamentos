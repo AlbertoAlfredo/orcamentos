{
 "cells": [
  {
   "cell_type": "code",
   "execution_count": 1,
   "metadata": {},
   "outputs": [],
   "source": [
    "from mixer.backend.django import mixer"
   ]
  },
  {
   "cell_type": "code",
   "execution_count": 3,
   "metadata": {},
   "outputs": [
    {
     "data": {
      "text/plain": [
       "<Occupation: ZKzUTyVvpxCVLAoaGLil>"
      ]
     },
     "execution_count": 3,
     "metadata": {},
     "output_type": "execute_result"
    }
   ],
   "source": [
    "mixer.blend(Occupation)"
   ]
  },
  {
   "cell_type": "code",
   "execution_count": 4,
   "metadata": {},
   "outputs": [
    {
     "data": {
      "text/plain": [
       "[<Occupation: uOCVriJrOGNrzSsQVyvK>,\n",
       " <Occupation: KPntKpQVZEnxXjwPSgDC>,\n",
       " <Occupation: WUCuawPkmJdKbgwGUBfs>]"
      ]
     },
     "execution_count": 4,
     "metadata": {},
     "output_type": "execute_result"
    }
   ],
   "source": [
    "mixer.cycle(3).blend(Occupation)"
   ]
  },
  {
   "cell_type": "code",
   "execution_count": 7,
   "metadata": {},
   "outputs": [],
   "source": [
    "# Usando faker\n",
    "from faker import Faker, Factory"
   ]
  },
  {
   "cell_type": "code",
   "execution_count": 8,
   "metadata": {},
   "outputs": [],
   "source": [
    "fake = Faker('pt_BR')"
   ]
  },
  {
   "cell_type": "code",
   "execution_count": 15,
   "metadata": {},
   "outputs": [
    {
     "data": {
      "text/plain": [
       "['Odontologista legal',\n",
       " 'Amolador de ferramentas',\n",
       " 'Gandula',\n",
       " 'Assistente administrativo',\n",
       " 'Técnico em radiologia',\n",
       " 'Modelo',\n",
       " 'Almirante',\n",
       " 'Assessor parlamentar',\n",
       " 'Fonoaudiólogo',\n",
       " 'Capataz']"
      ]
     },
     "execution_count": 15,
     "metadata": {},
     "output_type": "execute_result"
    }
   ],
   "source": [
    "# Criando alguns cargos a partir de faker\n",
    "occupations = [fake.job() for _ in range(10)]\n",
    "occupations"
   ]
  },
  {
   "cell_type": "code",
   "execution_count": 16,
   "metadata": {},
   "outputs": [
    {
     "data": {
      "text/plain": [
       "[<Occupation: Odontologista legal>,\n",
       " <Occupation: Amolador de ferramentas>,\n",
       " <Occupation: Gandula>,\n",
       " <Occupation: Assistente administrativo>,\n",
       " <Occupation: Técnico em radiologia>,\n",
       " <Occupation: Modelo>,\n",
       " <Occupation: Almirante>,\n",
       " <Occupation: Assessor parlamentar>,\n",
       " <Occupation: Fonoaudiólogo>,\n",
       " <Occupation: Capataz>]"
      ]
     },
     "execution_count": 16,
     "metadata": {},
     "output_type": "execute_result"
    }
   ],
   "source": [
    "mixer.cycle(len(occupations)).blend(Occupation, occupation=(job for job in occupations))"
   ]
  },
  {
   "cell_type": "code",
   "execution_count": null,
   "metadata": {},
   "outputs": [],
   "source": [
    "# Criar Work com FK\n",
    "# Importar dados de CSV\n",
    "# Importar dados de Excel"
   ]
  }
 ],
 "metadata": {
  "kernelspec": {
   "display_name": "Django Shell-Plus",
   "language": "python",
   "name": "django_extensions"
  },
  "language_info": {
   "codemirror_mode": {
    "name": "ipython",
    "version": 3
   },
   "file_extension": ".py",
   "mimetype": "text/x-python",
   "name": "python",
   "nbconvert_exporter": "python",
   "pygments_lexer": "ipython3",
   "version": "3.7.0"
  }
 },
 "nbformat": 4,
 "nbformat_minor": 2
}
