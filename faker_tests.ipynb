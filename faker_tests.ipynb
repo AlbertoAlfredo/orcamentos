{
 "cells": [
  {
   "cell_type": "code",
   "execution_count": 1,
   "metadata": {},
   "outputs": [],
   "source": [
    "from faker import Faker"
   ]
  },
  {
   "cell_type": "code",
   "execution_count": 2,
   "metadata": {},
   "outputs": [],
   "source": [
    "fake = Faker()"
   ]
  },
  {
   "cell_type": "code",
   "execution_count": 3,
   "metadata": {},
   "outputs": [
    {
     "data": {
      "text/plain": [
       "'Cynthia Ross'"
      ]
     },
     "execution_count": 3,
     "metadata": {},
     "output_type": "execute_result"
    }
   ],
   "source": [
    "fake.name()"
   ]
  },
  {
   "cell_type": "code",
   "execution_count": 4,
   "metadata": {},
   "outputs": [
    {
     "name": "stdout",
     "output_type": "stream",
     "text": [
      "Tony Brown\n",
      "Matthew Lopez\n",
      "Malik Brown\n",
      "Joseph Kim\n",
      "Marc Schneider\n",
      "Tiffany Smith\n",
      "Brooke Harris\n",
      "Wendy Lewis\n",
      "Tara Watts\n",
      "Mary Mcclure\n"
     ]
    }
   ],
   "source": [
    "for _ in range(10):\n",
    "    print(fake.name())"
   ]
  },
  {
   "cell_type": "code",
   "execution_count": 5,
   "metadata": {},
   "outputs": [
    {
     "name": "stdout",
     "output_type": "stream",
     "text": [
      "Heitor da Mota\n",
      "Sra. Mariana Peixoto\n",
      "Sr. Davi Lucca Martins\n",
      "Alice Cavalcanti\n",
      "Lívia Fogaça\n",
      "Erick Melo\n",
      "Pietra Silva\n",
      "Luna Vieira\n",
      "Caroline da Mata\n",
      "Pedro Lucas Moraes\n",
      "Heloísa da Cruz\n",
      "Bryan da Paz\n",
      "Maria Cecília Rezende\n",
      "Raul Mendes\n",
      "Sofia Pinto\n",
      "Ana Beatriz da Costa\n",
      "Ana Vitória Oliveira\n",
      "Dr. Bruno Moura\n",
      "Paulo Vieira\n",
      "Nicolas Cardoso\n",
      "Laura Rezende\n",
      "Milena Moura\n",
      "Srta. Maria Luiza Moraes\n",
      "Eduarda Oliveira\n",
      "Melissa Barbosa\n",
      "Breno Melo\n",
      "Catarina Souza\n",
      "Marina Cardoso\n",
      "Srta. Raquel da Rocha\n",
      "Samuel da Cruz\n"
     ]
    }
   ],
   "source": [
    "from faker import Faker\n",
    "fake = Faker('pt_BR')\n",
    "for _ in range(30):\n",
    "    print(fake.name())"
   ]
  },
  {
   "cell_type": "code",
   "execution_count": 6,
   "metadata": {},
   "outputs": [
    {
     "name": "stdout",
     "output_type": "stream",
     "text": [
      "Recanto Felipe Mendes\n",
      "João Alfredo\n",
      "40690-456 Peixoto de Carvalho / AP\n",
      "Rodovia Fernandes, 97\n",
      "Jardim Felicidade\n",
      "34375-587 Peixoto / TO\n",
      "Largo de Viana, 8\n",
      "Vila Atila De Paiva\n",
      "09902-156 Gomes / PE\n",
      "Estrada Vitor Freitas, 824\n",
      "Palmeiras\n",
      "22591-139 Vieira de Fernandes / CE\n",
      "Jardim Eloah Nunes, 34\n",
      "Vila Minaslandia\n",
      "64790990 Caldeira do Oeste / DF\n",
      "Setor de Novaes, 9\n",
      "Vila Santa Rosa\n",
      "68994843 Cardoso de Duarte / MG\n",
      "Chácara Cavalcanti, 35\n",
      "Sport Club\n",
      "95228345 Lopes de Campos / AC\n",
      "Loteamento Luigi Barros, 4\n",
      "Palmares\n",
      "59792-111 Correia do Amparo / SP\n",
      "Aeroporto Raul Vieira\n",
      "Virgínia\n",
      "25353603 Alves de Minas / RR\n",
      "Núcleo Pinto\n",
      "São Paulo\n",
      "71773-182 Freitas / PE\n"
     ]
    }
   ],
   "source": [
    "for _ in range(10):\n",
    "    print(fake.address())"
   ]
  },
  {
   "cell_type": "code",
   "execution_count": 7,
   "metadata": {},
   "outputs": [
    {
     "data": {
      "text/plain": [
       "'Ullam excepturi nam vitae consequuntur. Illo id recusandae temporibus veritatis ducimus. Praesentium aperiam eligendi fugiat.\\nMollitia iste facere ducimus. Cum ab error fugit mollitia.'"
      ]
     },
     "execution_count": 7,
     "metadata": {},
     "output_type": "execute_result"
    }
   ],
   "source": [
    "fake.text()"
   ]
  },
  {
   "cell_type": "code",
   "execution_count": 8,
   "metadata": {},
   "outputs": [],
   "source": [
    "from faker import Factory\n",
    "from faker.providers import internet"
   ]
  },
  {
   "cell_type": "code",
   "execution_count": 9,
   "metadata": {},
   "outputs": [],
   "source": [
    "fake = Factory.create()\n",
    "fake.add_provider(internet)"
   ]
  },
  {
   "cell_type": "code",
   "execution_count": 10,
   "metadata": {},
   "outputs": [
    {
     "name": "stdout",
     "output_type": "stream",
     "text": [
      "172.27.204.182\n"
     ]
    }
   ],
   "source": [
    "print(fake.ipv4_private())"
   ]
  },
  {
   "cell_type": "code",
   "execution_count": 11,
   "metadata": {},
   "outputs": [],
   "source": [
    "fake = Faker('pt_BR')"
   ]
  },
  {
   "cell_type": "code",
   "execution_count": 12,
   "metadata": {},
   "outputs": [
    {
     "name": "stdout",
     "output_type": "stream",
     "text": [
      "da Cruz\n",
      "Nunes Barros e Filhos\n",
      "Carvalho\n",
      "das Neves - EI\n",
      "Sales Ltda.\n",
      "Moraes\n",
      "da Conceição S.A.\n",
      "Sales Pinto - ME\n",
      "Rocha\n",
      "Nascimento Ltda.\n"
     ]
    }
   ],
   "source": [
    "for _ in range(10):\n",
    "    print(fake.company())"
   ]
  },
  {
   "cell_type": "code",
   "execution_count": 13,
   "metadata": {},
   "outputs": [
    {
     "name": "stdout",
     "output_type": "stream",
     "text": [
      "Lenhador\n",
      "Babá\n",
      "Instrumentador cirúrgico\n",
      "Musicoterapeuta\n",
      "Escriturário\n",
      "Tecnólogo em processos químicos\n",
      "Triatleta\n",
      "Policial federal\n",
      "Classificador contábil\n",
      "Esgrimista\n"
     ]
    }
   ],
   "source": [
    "for _ in range(10):\n",
    "    print(fake.job())"
   ]
  },
  {
   "cell_type": "code",
   "execution_count": 14,
   "metadata": {},
   "outputs": [
    {
     "name": "stdout",
     "output_type": "stream",
     "text": [
      "31 6697 5790\n",
      "+55 21 2078 6998\n",
      "51 315 3374\n",
      "+55 (031) 9381 0478\n",
      "(041) 7507 9381\n",
      "+55 (031) 7166 3184\n",
      "71 3313 3378\n",
      "+55 11 6742-4051\n",
      "+55 51 257 8234\n",
      "+55 71 3172-5126\n"
     ]
    }
   ],
   "source": [
    "for _ in range(10):\n",
    "    print(fake.phone_number())"
   ]
  },
  {
   "cell_type": "code",
   "execution_count": null,
   "metadata": {},
   "outputs": [],
   "source": []
  }
 ],
 "metadata": {
  "kernelspec": {
   "display_name": "Django Shell-Plus",
   "language": "python",
   "name": "django_extensions"
  },
  "language_info": {
   "codemirror_mode": {
    "name": "ipython",
    "version": 3
   },
   "file_extension": ".py",
   "mimetype": "text/x-python",
   "name": "python",
   "nbconvert_exporter": "python",
   "pygments_lexer": "ipython3",
   "version": "3.7.0"
  }
 },
 "nbformat": 4,
 "nbformat_minor": 2
}
