{
 "cells": [
  {
   "cell_type": "code",
   "execution_count": 1,
   "metadata": {},
   "outputs": [],
   "source": [
    "from faker import Faker"
   ]
  },
  {
   "cell_type": "code",
   "execution_count": 2,
   "metadata": {},
   "outputs": [],
   "source": [
    "fake = Faker()"
   ]
  },
  {
   "cell_type": "code",
   "execution_count": 3,
   "metadata": {},
   "outputs": [
    {
     "data": {
      "text/plain": [
       "'Vanessa Blake'"
      ]
     },
     "execution_count": 3,
     "metadata": {},
     "output_type": "execute_result"
    }
   ],
   "source": [
    "fake.name()"
   ]
  },
  {
   "cell_type": "code",
   "execution_count": 4,
   "metadata": {},
   "outputs": [
    {
     "name": "stdout",
     "output_type": "stream",
     "text": [
      "David Barker\n",
      "Raymond Spencer\n",
      "Michael Sosa\n",
      "Olivia Davis\n",
      "Philip Smith\n",
      "Paul Edwards PhD\n",
      "Miranda Campbell\n",
      "Pamela Coleman\n",
      "Megan Williams\n",
      "Jason May\n"
     ]
    }
   ],
   "source": [
    "for _ in range(10):\n",
    "    print(fake.name())"
   ]
  },
  {
   "cell_type": "code",
   "execution_count": 5,
   "metadata": {},
   "outputs": [
    {
     "name": "stdout",
     "output_type": "stream",
     "text": [
      "Alícia Ferreira\n",
      "Rafael Duarte\n",
      "João Vitor da Luz\n",
      "Srta. Esther Porto\n",
      "Alice Dias\n",
      "Dr. Enzo Gabriel Duarte\n",
      "Dra. Lívia Silva\n",
      "Sr. João Gabriel Farias\n",
      "Theo Viana\n",
      "Heloísa da Conceição\n",
      "Davi Pinto\n",
      "Maysa Nunes\n",
      "Camila Porto\n",
      "João Lucas Oliveira\n",
      "Srta. Isabella da Luz\n",
      "Srta. Brenda Campos\n",
      "Dr. Danilo da Costa\n",
      "Luiz Otávio Barros\n",
      "Srta. Bárbara Oliveira\n",
      "Fernanda da Costa\n",
      "Marcela Monteiro\n",
      "Raquel Cardoso\n",
      "Dra. Emanuelly Lima\n",
      "Benjamin Monteiro\n",
      "Alana Campos\n",
      "Sarah Jesus\n",
      "Alexandre Nunes\n",
      "Ana Carolina da Rosa\n",
      "Lavínia Pinto\n",
      "Yasmin da Conceição\n"
     ]
    }
   ],
   "source": [
    "from faker import Faker\n",
    "fake = Faker('pt_BR')\n",
    "for _ in range(30):\n",
    "    print(fake.name())"
   ]
  },
  {
   "cell_type": "code",
   "execution_count": 37,
   "metadata": {},
   "outputs": [
    {
     "name": "stdout",
     "output_type": "stream",
     "text": [
      "Vale Lucca Costa, 598\n",
      "Campo de Moreira, 32\n",
      "Jardim de Monteiro, 6\n",
      "Esplanada de Caldeira, 30\n",
      "Lagoa Pedro Lucas Oliveira, 34\n",
      "Residencial Camila Teixeira, 27\n",
      "Largo de Monteiro, 3\n",
      "Praça Maria Clara Novaes, 80\n",
      "Lagoa Benjamin Monteiro, 40\n",
      "Aeroporto Alexia Castro, 19\n",
      "Residencial de da Paz\n",
      "Lagoa João Miguel Peixoto\n",
      "Setor Juan da Conceição, 400\n",
      "Colônia Ribeiro, 20\n",
      "Vereda Ian Nunes\n",
      "Jardim Freitas, 29\n",
      "Lagoa Ana Luiza Caldeira, 84\n",
      "Rodovia Lara Araújo, 89\n",
      "Lago Heloísa Lopes, 56\n",
      "Colônia Araújo, 1\n",
      "Esplanada Silveira, 4\n",
      "Largo Mirella Peixoto, 110\n",
      "Estrada Oliveira, 94\n",
      "Estação Dias\n",
      "Esplanada de Duarte, 37\n",
      "Núcleo de da Luz, 66\n",
      "Favela Gustavo Souza, 130\n",
      "Vale de Moraes\n",
      "Chácara de da Costa, 64\n",
      "Recanto de Cardoso, 39\n"
     ]
    }
   ],
   "source": [
    "from faker import Faker\n",
    "fake = Faker('pt_BR')\n",
    "for _ in range(30):\n",
    "    print(fake.street_address())"
   ]
  },
  {
   "cell_type": "code",
   "execution_count": 6,
   "metadata": {},
   "outputs": [
    {
     "name": "stdout",
     "output_type": "stream",
     "text": [
      "Recanto Rodrigues, 4\n",
      "Vila Petropolis\n",
      "89438496 Ferreira de Caldeira / PB\n",
      "Rua Cavalcanti, 561\n",
      "Anchieta\n",
      "97525-383 Dias do Amparo / RS\n",
      "Estrada de da Paz, 595\n",
      "Nova Pampulha\n",
      "65595-414 Carvalho das Pedras / PI\n",
      "Distrito Gomes, 53\n",
      "Tirol\n",
      "36123986 Peixoto / RJ\n",
      "Distrito Breno Campos, 431\n",
      "Vila Nova Cachoeirinha 2ª Seção\n",
      "94505-840 Nascimento / SC\n",
      "Esplanada Ramos, 744\n",
      "Nova Cachoeirinha\n",
      "05938416 Lima / CE\n",
      "Alameda Ana Pereira, 287\n",
      "Petropolis\n",
      "05119-808 Costela / PE\n",
      "Núcleo Catarina Cardoso\n",
      "Corumbiara\n",
      "41937-207 Vieira Alegre / PR\n",
      "Condomínio Davi Lucas Carvalho, 71\n",
      "Conjunto Califórnia I\n",
      "98394402 Dias / AP\n",
      "Largo Duarte, 14\n",
      "Bandeirantes\n",
      "00302170 Aragão do Campo / ES\n"
     ]
    }
   ],
   "source": [
    "for _ in range(10):\n",
    "    print(fake.address())"
   ]
  },
  {
   "cell_type": "code",
   "execution_count": 7,
   "metadata": {},
   "outputs": [
    {
     "data": {
      "text/plain": [
       "'Quos ipsa odit illum aliquam cumque ipsum voluptates. Explicabo reiciendis sapiente eius quaerat. Eos rem libero sit.\\nReprehenderit odit eveniet. Excepturi voluptas perferendis.'"
      ]
     },
     "execution_count": 7,
     "metadata": {},
     "output_type": "execute_result"
    }
   ],
   "source": [
    "fake.text()"
   ]
  },
  {
   "cell_type": "code",
   "execution_count": 8,
   "metadata": {},
   "outputs": [],
   "source": [
    "from faker import Factory\n",
    "from faker.providers import internet"
   ]
  },
  {
   "cell_type": "code",
   "execution_count": 9,
   "metadata": {},
   "outputs": [],
   "source": [
    "fake = Factory.create()\n",
    "fake.add_provider(internet)"
   ]
  },
  {
   "cell_type": "code",
   "execution_count": 10,
   "metadata": {},
   "outputs": [
    {
     "name": "stdout",
     "output_type": "stream",
     "text": [
      "192.168.209.149\n"
     ]
    }
   ],
   "source": [
    "print(fake.ipv4_private())"
   ]
  },
  {
   "cell_type": "code",
   "execution_count": 11,
   "metadata": {},
   "outputs": [],
   "source": [
    "fake = Faker('pt_BR')"
   ]
  },
  {
   "cell_type": "code",
   "execution_count": 39,
   "metadata": {},
   "outputs": [
    {
     "name": "stdout",
     "output_type": "stream",
     "text": [
      "da Cruz S.A.\n",
      "da Mota da Rosa S/A\n",
      "Campos\n",
      "da Paz\n",
      "Lima Ltda.\n",
      "Nunes - EI\n",
      "Silva Gomes Ltda.\n",
      "Rodrigues\n",
      "Cardoso\n",
      "Cardoso Pereira S.A.\n"
     ]
    }
   ],
   "source": [
    "for _ in range(10):\n",
    "    print(fake.company())"
   ]
  },
  {
   "cell_type": "code",
   "execution_count": 13,
   "metadata": {},
   "outputs": [
    {
     "name": "stdout",
     "output_type": "stream",
     "text": [
      "Técnico em radiologia\n",
      "Tecnólogo em rochas ornamentais\n",
      "Numerólogo\n",
      "Continuista\n",
      "Promotor de eventos\n",
      "Tecnólogo em produção moveleira\n",
      "Economista doméstico\n",
      "Carnavalesco\n",
      "Quiropraxista\n",
      "Marketeiro\n"
     ]
    }
   ],
   "source": [
    "for _ in range(10):\n",
    "    print(fake.job())"
   ]
  },
  {
   "cell_type": "code",
   "execution_count": 14,
   "metadata": {},
   "outputs": [
    {
     "name": "stdout",
     "output_type": "stream",
     "text": [
      "+55 81 3997-7504\n",
      "11 5580 8795\n",
      "+55 (081) 0243 5971\n",
      "61 4329 9156\n",
      "+55 (021) 2361 1774\n",
      "(031) 1691-2296\n",
      "(081) 2648 2060\n",
      "+55 71 2789 2611\n",
      "(041) 5488-7574\n",
      "11 6782-0918\n"
     ]
    }
   ],
   "source": [
    "for _ in range(10):\n",
    "    print(fake.phone_number())"
   ]
  },
  {
   "cell_type": "code",
   "execution_count": null,
   "metadata": {},
   "outputs": [],
   "source": []
  }
 ],
 "metadata": {
  "kernelspec": {
   "display_name": "Django Shell-Plus",
   "language": "python",
   "name": "django_extensions"
  },
  "language_info": {
   "codemirror_mode": {
    "name": "ipython",
    "version": 3
   },
   "file_extension": ".py",
   "mimetype": "text/x-python",
   "name": "python",
   "nbconvert_exporter": "python",
   "pygments_lexer": "ipython3",
   "version": "3.7.0"
  }
 },
 "nbformat": 4,
 "nbformat_minor": 2
}
